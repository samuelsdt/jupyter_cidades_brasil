{
 "cells": [
  {
   "cell_type": "code",
   "execution_count": 1,
   "metadata": {},
   "outputs": [],
   "source": [
    "#importa a biblioteca\n",
    "from brlcities import brlmap, linear"
   ]
  },
  {
   "cell_type": "markdown",
   "metadata": {},
   "source": [
    "## PIB Per Capita Municípios RS"
   ]
  },
  {
   "cell_type": "code",
   "execution_count": 2,
   "metadata": {},
   "outputs": [],
   "source": [
    "#le arquivo contendo o codigo ibge e o pib per capita dos municípios do RS\n",
    "#exemplo do arquivo: {\"4300034\":51139,\"4300059\":68956,\"4300109\":25052,\"4300208\":32241,\"4300307\":13680,\"4300406\":23182}\n",
    "import json\n",
    "pib = json.load(open('pibpc_rs.json')) "
   ]
  },
  {
   "cell_type": "code",
   "execution_count": 3,
   "metadata": {},
   "outputs": [
    {
     "data": {
      "application/vnd.jupyter.widget-view+json": {
       "model_id": "baa156af507c4fdf9c38580cd7ec47d7",
       "version_major": 2,
       "version_minor": 0
      },
      "text/plain": [
       "Box(children=(HTML(value='\\n        <h3 style=\"text-align: center;\">PIB Per Capita Municípios RS</h3>\\n    '),…"
      ]
     },
     "metadata": {},
     "output_type": "display_data"
    }
   ],
   "source": [
    "#monta o mapa coroplético com os dados\n",
    "mapa_pib = brlmap(pib, title=\"PIB Per Capita Municípios RS\", colormap=linear.RdYlGn_09,\n",
    "                  style={'fillOpacity': 0.8,'weight':0.3, 'color' : '#909090'})\n",
    "mapa_pib"
   ]
  },
  {
   "cell_type": "markdown",
   "metadata": {},
   "source": [
    "## IDH Municípios Região Metropolitana de São Paulo"
   ]
  },
  {
   "cell_type": "code",
   "execution_count": 4,
   "metadata": {},
   "outputs": [],
   "source": [
    "idh = {\"Arujá/SP\" : 0.784, \"Barueri/SP\" : 0.786, \"Biritiba Mirim/SP\" : 0.712, \"Caieiras/SP\" : 0.781, \"Cajamar/SP\" : 0.728, \n",
    "       \"Carapicuíba/SP\" : 0.749, \"Cotia/SP\" : 0.78, \"Diadema/SP\" : 0.757, \"Embu das Artes/SP\" : 0.735, \n",
    "       \"Embu-Guaçu/SP\" : 0.749, \"Ferraz de Vasconcelos/SP\" : 0.738, \"Francisco Morato/SP\" : 0.703, \n",
    "       \"Franco da Rocha/SP\" : 0.731, \"Guararema/SP\" : 0.731, \"Guarulhos/SP\" : 0.763, \"Itapecerica da Serra/SP\" : 0.742, \n",
    "       \"Itapevi/SP\" : 0.735, \"Itaquaquecetuba/SP\" : 0.714, \"Jandira/SP\" : 0.76, \"Juquitiba/SP\" : 0.709, \n",
    "       \"Mairiporã/SP\" : 0.788, \"Mauá/SP\" : 0.766, \"Mogi das Cruzes/SP\" : 0.783, \"Osasco/SP\" : 0.776, \n",
    "       \"Pirapora do Bom Jesus/SP\" : 0.727, \"Poá/SP\" : 0.771, \"Ribeirão Pires/SP\" : 0.784, \"Rio Grande da Serra/SP\" : 0.749, \n",
    "       \"Salesópolis/SP\" : 0.732, \"Santa Isabel/SP\" : 0.738, \"Santana de Parnaíba/SP\" : 0.814, \"Santo André/SP\" : 0.815, \n",
    "       \"São Bernardo do Campo/SP\" : 0.805, \"São Caetano do Sul/SP\" : 0.862, \"São Lourenço da Serra/SP\" : 0.728, \n",
    "       \"São Paulo/SP\" : 0.805, \"Suzano/SP\" : 0.765, \"Taboão da Serra/SP\" : 0.769, \"Vargem Grande Paulista/SP\" : 0.77}"
   ]
  },
  {
   "cell_type": "code",
   "execution_count": 5,
   "metadata": {},
   "outputs": [
    {
     "data": {
      "application/vnd.jupyter.widget-view+json": {
       "model_id": "375212cd1ed04dbeb7064d5d2a9a735c",
       "version_major": 2,
       "version_minor": 0
      },
      "text/plain": [
       "Box(children=(HTML(value='\\n        <h3 style=\"text-align: center;\">IDH Municípios Região Metropolitana de São…"
      ]
     },
     "metadata": {},
     "output_type": "display_data"
    }
   ],
   "source": [
    "mapa_idh = brlmap(idh, pattern=\"nome/uf\", title=\"IDH Municípios Região Metropolitana de São Paulo\", \n",
    "                  style={'fillOpacity': 0.8,'weight':0.3, 'color' : '#909090'})\n",
    "mapa_idh"
   ]
  }
 ],
 "metadata": {
  "kernelspec": {
   "display_name": "Python 3",
   "language": "python",
   "name": "python3"
  },
  "language_info": {
   "codemirror_mode": {
    "name": "ipython",
    "version": 3
   },
   "file_extension": ".py",
   "mimetype": "text/x-python",
   "name": "python",
   "nbconvert_exporter": "python",
   "pygments_lexer": "ipython3",
   "version": "3.6.5"
  },
  "varInspector": {
   "cols": {
    "lenName": 16,
    "lenType": 16,
    "lenVar": 40
   },
   "kernels_config": {
    "python": {
     "delete_cmd_postfix": "",
     "delete_cmd_prefix": "del ",
     "library": "var_list.py",
     "varRefreshCmd": "print(var_dic_list())"
    },
    "r": {
     "delete_cmd_postfix": ") ",
     "delete_cmd_prefix": "rm(",
     "library": "var_list.r",
     "varRefreshCmd": "cat(var_dic_list()) "
    }
   },
   "types_to_exclude": [
    "module",
    "function",
    "builtin_function_or_method",
    "instance",
    "_Feature"
   ],
   "window_display": false
  }
 },
 "nbformat": 4,
 "nbformat_minor": 2
}
